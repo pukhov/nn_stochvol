{
 "cells": [
  {
   "cell_type": "markdown",
   "metadata": {},
   "source": [
    "### Note: I simply ran this notebook twice for type \"old\" and \"new\" to generate models and plots"
   ]
  },
  {
   "cell_type": "code",
   "execution_count": 1,
   "metadata": {},
   "outputs": [
    {
     "data": {
      "text/html": [
       "<style>.container { width:70% !important; }</style>"
      ],
      "text/plain": [
       "<IPython.core.display.HTML object>"
      ]
     },
     "metadata": {},
     "output_type": "display_data"
    }
   ],
   "source": [
    "from IPython.core.display import display, HTML\n",
    "display(HTML(\"<style>.container { width:70% !important; }</style>\"))"
   ]
  },
  {
   "cell_type": "code",
   "execution_count": 2,
   "metadata": {},
   "outputs": [],
   "source": [
    "import sys\n",
    "from pathlib2 import Path\n",
    "\n",
    "# NOTE these two lines (especially the second one) are somewhat dangerous \n",
    "# and you'd better just add path to this repo to PYTHONPATH\n",
    "# but this should work!\n",
    "sys.path.append(Path.cwd().parent.as_posix())\n",
    "sys.path.append(Path.cwd().parent.parent.as_posix())\n",
    "\n"
   ]
  },
  {
   "cell_type": "code",
   "execution_count": 3,
   "metadata": {},
   "outputs": [],
   "source": [
    "import numpy as np\n",
    "import pandas as pd\n",
    "import torch\n",
    "\n",
    "import matplotlib.pyplot as plt\n",
    "%matplotlib inline"
   ]
  },
  {
   "cell_type": "code",
   "execution_count": 4,
   "metadata": {},
   "outputs": [],
   "source": [
    "plt.rcParams[\"figure.figsize\"] = (16, 9)\n",
    "plt.rcParams[\"font.size\"] = 14"
   ]
  },
  {
   "cell_type": "code",
   "execution_count": 5,
   "metadata": {},
   "outputs": [],
   "source": [
    "plt.rcParams[\"figure.figsize\"] = (16, 9)\n",
    "plt.rcParams[\"font.size\"] = 14"
   ]
  },
  {
   "cell_type": "code",
   "execution_count": 6,
   "metadata": {},
   "outputs": [],
   "source": [
    "import load_surfaces, training, dplot, utils, paths\n",
    "from importlib import reload\n",
    "\n",
    "def RELOAD():\n",
    "    reload(load_surfaces)\n",
    "    reload(training)\n",
    "    reload(dplot)\n",
    "    reload(utils)\n",
    "    reload(paths)\n",
    "    \n",
    "RELOAD()"
   ]
  },
  {
   "cell_type": "markdown",
   "metadata": {},
   "source": [
    "### Choose which data to load: old or new"
   ]
  },
  {
   "cell_type": "code",
   "execution_count": 7,
   "metadata": {},
   "outputs": [],
   "source": [
    "TYPE = \"new\"\n",
    "assert TYPE in [\"old\", \"new\"]"
   ]
  },
  {
   "cell_type": "code",
   "execution_count": 8,
   "metadata": {},
   "outputs": [
    {
     "name": "stdout",
     "output_type": "stream",
     "text": [
      "Loading 53354 surfaces...\n"
     ]
    },
    {
     "data": {
      "application/vnd.jupyter.widget-view+json": {
       "model_id": "87e1861b58b341828ae28be1819b92d1",
       "version_major": 2,
       "version_minor": 0
      },
      "text/plain": [
       "HBox(children=(FloatProgress(value=0.0, max=53354.0), HTML(value='')))"
      ]
     },
     "metadata": {},
     "output_type": "display_data"
    },
    {
     "name": "stdout",
     "output_type": "stream",
     "text": [
      "\n"
     ]
    },
    {
     "name": "stderr",
     "output_type": "stream",
     "text": [
      "WARNING:root:passed non consecutive idces -- not all vlt matrices created.\n"
     ]
    },
    {
     "data": {
      "text/plain": [
       "dict_keys(['params_nk', 'vols_nms', 'params_cols_k', 'mat_ms', 'strikes_ms'])"
      ]
     },
     "execution_count": 8,
     "metadata": {},
     "output_type": "execute_result"
    }
   ],
   "source": [
    "raw_data = load_surfaces.load_vlt_surfaces(TYPE)\n",
    "\n",
    "raw_data.keys()"
   ]
  },
  {
   "cell_type": "code",
   "execution_count": 9,
   "metadata": {},
   "outputs": [
    {
     "data": {
      "text/plain": [
       "dict_keys(['params_train_nk', 'vol_train_nf', 'params_test_Nk', 'vol_test_Nf', 'params_scaler', 'vol_scaler'])"
      ]
     },
     "execution_count": 9,
     "metadata": {},
     "output_type": "execute_result"
    }
   ],
   "source": [
    "normalized_data = utils.get_train_test_split_nk_nf(raw_data)\n",
    "normalized_data.keys()"
   ]
  },
  {
   "cell_type": "code",
   "execution_count": 10,
   "metadata": {},
   "outputs": [],
   "source": [
    "torch_data = training.get_train_test_dataset_and_loader(normalized_data, batch_size=512)"
   ]
  },
  {
   "cell_type": "markdown",
   "metadata": {},
   "source": [
    "### Define model and fit"
   ]
  },
  {
   "cell_type": "code",
   "execution_count": 11,
   "metadata": {},
   "outputs": [],
   "source": [
    "import matplotlib.pyplot as plt\n",
    "%matplotlib inline"
   ]
  },
  {
   "cell_type": "code",
   "execution_count": 12,
   "metadata": {},
   "outputs": [],
   "source": [
    "model = training.get_torch_model(raw_data[\"params_nk\"].shape[1], num_layers=4)\n",
    "learner = training.Learner(model, torch_data[\"train_loader\"], torch_data[\"test_loader\"])"
   ]
  },
  {
   "cell_type": "code",
   "execution_count": 13,
   "metadata": {},
   "outputs": [
    {
     "data": {
      "image/png": "[encoded data removed]",
      "text/plain": [
       "<Figure size 432x288 with 1 Axes>"
      ]
     },
     "metadata": {
      "needs_background": "light"
     },
     "output_type": "display_data"
    },
    {
     "name": "stdout",
     "output_type": "stream",
     "text": [
      "\n"
     ]
    },
    {
     "data": {
      "image/png": "[encoded data removed]",
      "text/plain": [
       "<Figure size 432x288 with 1 Axes>"
      ]
     },
     "metadata": {
      "needs_background": "light"
     },
     "output_type": "display_data"
    }
   ],
   "source": [
    "learner.train(40)\n",
    "learner.optimizer.param_groups[0][\"lr\"] *= 0.1\n",
    "fig = learner.train(10)"
   ]
  },
  {
   "cell_type": "code",
   "execution_count": 14,
   "metadata": {},
   "outputs": [
    {
     "data": {
      "image/png": "[encoded data removed]",
      "text/plain": [
       "<Figure size 432x288 with 1 Axes>"
      ]
     },
     "metadata": {
      "needs_background": "light"
     },
     "output_type": "display_data"
    }
   ],
   "source": [
    "fig = learner.show_loss(50)"
   ]
  },
  {
   "cell_type": "code",
   "execution_count": 15,
   "metadata": {},
   "outputs": [],
   "source": [
    "fig.savefig(f\"../images/loss_by_epoch_{TYPE}.png\")"
   ]
  },
  {
   "cell_type": "markdown",
   "metadata": {},
   "source": [
    "### Save the model"
   ]
  },
  {
   "cell_type": "code",
   "execution_count": 16,
   "metadata": {},
   "outputs": [
    {
     "data": {
      "text/plain": [
       "Sequential(\n",
       "  (0): Linear(in_features=11, out_features=30, bias=True)\n",
       "  (1): ELU(alpha=1.0)\n",
       "  (2): Linear(in_features=30, out_features=30, bias=True)\n",
       "  (3): ELU(alpha=1.0)\n",
       "  (4): Linear(in_features=30, out_features=30, bias=True)\n",
       "  (5): ELU(alpha=1.0)\n",
       "  (6): Linear(in_features=30, out_features=88, bias=True)\n",
       ")"
      ]
     },
     "execution_count": 16,
     "metadata": {},
     "output_type": "execute_result"
    }
   ],
   "source": [
    "paths.PATH_TO_MODELS.mkdir(exist_ok=True)\n",
    "learner.model.eval()"
   ]
  },
  {
   "cell_type": "code",
   "execution_count": 17,
   "metadata": {},
   "outputs": [],
   "source": [
    "bounds = list(zip(normalized_data[\"params_train_nk\"].min(axis=0),\n",
    "                  normalized_data[\"params_train_nk\"].max(axis=0)))"
   ]
  },
  {
   "cell_type": "code",
   "execution_count": 18,
   "metadata": {},
   "outputs": [
    {
     "name": "stderr",
     "output_type": "stream",
     "text": [
      "/home/alexander/anaconda3/lib/python3.7/site-packages/torch/serialization.py:292: UserWarning: Couldn't retrieve source code for container of type Sequential. It won't be checked for correctness upon loading.\n",
      "  \"type \" + obj.__name__ + \". It won't be checked \"\n",
      "/home/alexander/anaconda3/lib/python3.7/site-packages/torch/serialization.py:292: UserWarning: Couldn't retrieve source code for container of type Linear. It won't be checked for correctness upon loading.\n",
      "  \"type \" + obj.__name__ + \". It won't be checked \"\n",
      "/home/alexander/anaconda3/lib/python3.7/site-packages/torch/serialization.py:292: UserWarning: Couldn't retrieve source code for container of type ELU. It won't be checked for correctness upon loading.\n",
      "  \"type \" + obj.__name__ + \". It won't be checked \"\n"
     ]
    }
   ],
   "source": [
    "torch.save(normalized_data[\"params_scaler\"], str(paths.PATH_TO_MODELS/f\"params_scaler_{TYPE}.pt\"))\n",
    "torch.save(normalized_data[\"vol_scaler\"],    str(paths.PATH_TO_MODELS/f\"vol_scaler_{TYPE}.pt\"))\n",
    "torch.save(bounds,                           str(paths.PATH_TO_MODELS/f\"bounds_{TYPE}.pt\"))\n",
    "torch.save(learner.model,                    str(paths.PATH_TO_MODELS/f\"model_{TYPE}.pt\"))"
   ]
  },
  {
   "cell_type": "markdown",
   "metadata": {},
   "source": [
    "### Plot errors"
   ]
  },
  {
   "cell_type": "code",
   "execution_count": 19,
   "metadata": {},
   "outputs": [],
   "source": [
    "def calculate_errors(learner, torch_data, normalized_data):\n",
    "    pred_surf_nms, target_surf_nms =\\\n",
    "        learner.predict(torch_data[\"test_dataset\"], normalized_data[\"vol_scaler\"])\n",
    "\n",
    "    mse_ms = np.sqrt(((pred_surf_nms - target_surf_nms)**2).mean(axis=0))\n",
    "    mse_ms /= target_surf_nms.mean(axis=0)\n",
    "    return mse_ms\n",
    "    \n",
    "def plot_errors(mse_ms, raw_data, TYPE=TYPE):\n",
    "    fig, axis = plt.subplots(1,1)\n",
    "    axis.set_title(f\"average relative error ({TYPE})\")\n",
    "\n",
    "    axis.set_yticks(np.arange(8))\n",
    "    axis.set_xticks(np.arange(11))\n",
    "    img = axis.imshow(mse_ms[::-1])\n",
    "\n",
    "    axis.set_ylabel(\"maturity in years\")\n",
    "    axis.set_yticklabels(np.around(raw_data[\"mat_ms\"][::-1, 0], 3))\n",
    "    axis.set_xlabel(f\"log strike at {raw_data['mat_ms'][3, 0] :.3f} years\")\n",
    "    axis.set_xticklabels(\n",
    "        np.around(np.log(raw_data[\"strikes_ms\"][3, :]), 3),\n",
    "        rotation=30, ha=\"right\")\n",
    "\n",
    "    fig.colorbar(img)\n",
    "    return fig"
   ]
  },
  {
   "cell_type": "code",
   "execution_count": 20,
   "metadata": {},
   "outputs": [
    {
     "data": {
      "application/vnd.jupyter.widget-view+json": {
       "model_id": "159d2090a53d4ec4a5328cff6b8e4330",
       "version_major": 2,
       "version_minor": 0
      },
      "text/plain": [
       "HBox(children=(FloatProgress(value=0.0, max=8004.0), HTML(value='')))"
      ]
     },
     "metadata": {},
     "output_type": "display_data"
    },
    {
     "name": "stdout",
     "output_type": "stream",
     "text": [
      "\n"
     ]
    }
   ],
   "source": [
    "mse_ms = calculate_errors(learner, torch_data, normalized_data)"
   ]
  },
  {
   "cell_type": "code",
   "execution_count": 21,
   "metadata": {},
   "outputs": [
    {
     "data": {
      "image/png": "[encoded data removed]",
      "text/plain": [
       "<Figure size 432x288 with 2 Axes>"
      ]
     },
     "metadata": {
      "needs_background": "light"
     },
     "output_type": "display_data"
    }
   ],
   "source": [
    "fig = plot_errors(mse_ms, raw_data, TYPE)"
   ]
  },
  {
   "cell_type": "code",
   "execution_count": 22,
   "metadata": {},
   "outputs": [],
   "source": [
    "fig.savefig(f\"../images/relative_error_{TYPE}.png\")"
   ]
  },
  {
   "cell_type": "code",
   "execution_count": null,
   "metadata": {},
   "outputs": [],
   "source": []
  }
 ],
 "metadata": {
  "kernelspec": {
   "display_name": "Python 3",
   "language": "python",
   "name": "python3"
  },
  "language_info": {
   "codemirror_mode": {
    "name": "ipython",
    "version": 3
   },
   "file_extension": ".py",
   "mimetype": "text/x-python",
   "name": "python",
   "nbconvert_exporter": "python",
   "pygments_lexer": "ipython3",
   "version": "3.7.5"
  },
  "toc": {
   "base_numbering": 1,
   "nav_menu": {},
   "number_sections": true,
   "sideBar": true,
   "skip_h1_title": false,
   "title_cell": "Table of Contents",
   "title_sidebar": "Contents",
   "toc_cell": false,
   "toc_position": {},
   "toc_section_display": true,
   "toc_window_display": false
  }
 },
 "nbformat": 4,
 "nbformat_minor": 2
}
